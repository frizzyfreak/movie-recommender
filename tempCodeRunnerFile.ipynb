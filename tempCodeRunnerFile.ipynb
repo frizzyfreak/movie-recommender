# Add this cell in your notebook
# import pickle
# with open('output_movie.pkl', 'wb') as f:
#     pickle.dump(output_movie, f)
# print("output_movie saved successfully!")